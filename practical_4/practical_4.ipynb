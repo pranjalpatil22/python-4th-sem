{
 "cells": [
  {
   "cell_type": "markdown",
   "metadata": {},
   "source": [
    "Create a class with attributes and methods. \n",
    "Instantiate an object from a class. \n",
    "Access and modify the attributes of an object. \n",
    "Call methods defined in a class using an object. \n",
    "Access and modify the attributes of an object using getter and setter methods. \n",
    "Create a subclass that inherits from a superclass. \n",
    "Override methods in a subclass to provide specific implementations. \n",
    "Call methods from the superclass using the super() function. \n",
    "Define and use class variables that are shared among all instances of a class. \n",
    "Define and use instance variables that are unique to each object. \n",
    "Create a class that inherit from multiple superclass \n",
    "Understand and use the method resolution order to determine the order in which base classes are searched."
   ]
  },
  {
   "cell_type": "code",
   "execution_count": 4,
   "metadata": {},
   "outputs": [
    {
     "name": "stdout",
     "output_type": "stream",
     "text": [
      "Name: Alice, Age: 30\n",
      "Hello, my name is Alice!\n",
      "Student Name: Bob, Age: 20, ID: S12345\n",
      "Student Name: Charlie, Age: 22, ID: S67890\n",
      "Salary: 5000, Internship Duration: 6 months\n",
      "Charlie's Age: 22\n",
      "Updated Age: 23\n"
     ]
    }
   ],
   "source": [
    "# Superclass: Person\n",
    "class Person:\n",
    "    population = 0  # Class variable shared among all instances\n",
    "\n",
    "    def __init__(self, name, age):\n",
    "        self.name = name  # Instance variable\n",
    "        self.age = age    # Instance variable\n",
    "        Person.population += 1\n",
    "\n",
    "    def display(self):\n",
    "        print(f\"Name: {self.name}, Age: {self.age}\")\n",
    "\n",
    "    def greet(self):\n",
    "        return f\"Hello, my name is {self.name}!\"\n",
    "\n",
    "    # Getter method for age\n",
    "    def get_age(self):\n",
    "        return self.age\n",
    "\n",
    "    # Setter method for age\n",
    "    def set_age(self, new_age):\n",
    "        if new_age > 0:\n",
    "            self.age = new_age\n",
    "        else:\n",
    "            print(\"Age must be positive.\")\n",
    "\n",
    "# Subclass: Student (inherits from Person)\n",
    "class Student(Person):\n",
    "    def __init__(self, name, age, student_id):\n",
    "        super().__init__(name, age)  # Call the superclass constructor\n",
    "        self.student_id = student_id  # Unique instance variable\n",
    "\n",
    "    # Overriding the display method\n",
    "    def display(self):\n",
    "        print(f\"Student Name: {self.name}, Age: {self.age}, ID: {self.student_id}\")\n",
    "\n",
    "# Another superclass: Worker\n",
    "class Worker:\n",
    "    def __init__(self, salary):\n",
    "        self.salary = salary\n",
    "\n",
    "    def work(self):\n",
    "        print(\"Worker is working.\")\n",
    "\n",
    "# Multiple Inheritance: Intern inherits from Student and Worker\n",
    "class Intern(Student, Worker):\n",
    "    def __init__(self, name, age, student_id, salary, duration):\n",
    "        Student.__init__(self, name, age, student_id)  # Call Student constructor\n",
    "        Worker.__init__(self, salary)  # Call Worker constructor\n",
    "        self.duration = duration  # Unique instance variable\n",
    "\n",
    "    def display(self):\n",
    "        super().display()  \n",
    "        print(f\"Salary: {self.salary}, Internship Duration: {self.duration} months\")\n",
    "\n",
    "# Creating objects\n",
    "p1 = Person(\"Alice\", 30)\n",
    "p1.display()\n",
    "print(p1.greet())\n",
    "\n",
    "s1 = Student(\"Bob\", 20, \"S12345\")\n",
    "s1.display()\n",
    "\n",
    "i1 = Intern(\"Charlie\", 22, \"S67890\", 5000, 6)\n",
    "i1.display()\n",
    "\n",
    "# Using getter and setter\n",
    "print(f\"Charlie's Age: {i1.get_age()}\")\n",
    "i1.set_age(23)\n",
    "print(f\"Updated Age: {i1.get_age()}\")\n",
    "\n",
    "\n"
   ]
  }
 ],
 "metadata": {
  "kernelspec": {
   "display_name": "Python 3",
   "language": "python",
   "name": "python3"
  },
  "language_info": {
   "codemirror_mode": {
    "name": "ipython",
    "version": 3
   },
   "file_extension": ".py",
   "mimetype": "text/x-python",
   "name": "python",
   "nbconvert_exporter": "python",
   "pygments_lexer": "ipython3",
   "version": "3.12.4"
  }
 },
 "nbformat": 4,
 "nbformat_minor": 2
}
