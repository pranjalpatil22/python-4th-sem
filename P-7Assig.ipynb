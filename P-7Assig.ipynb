{
 "cells": [
  {
   "cell_type": "code",
   "execution_count": null,
   "metadata": {
    "colab": {
     "base_uri": "https://localhost:8080/"
    },
    "executionInfo": {
     "elapsed": 11,
     "status": "ok",
     "timestamp": 1743446121349,
     "user": {
      "displayName": "Jahnavi Patel",
      "userId": "16011445698345751611"
     },
     "user_tz": -330
    },
    "id": "lOSnfBg-ewR4",
    "outputId": "79d9f981-3655-4177-f778-6339c43fa377"
   },
   "outputs": [
    {
     "name": "stdout",
     "output_type": "stream",
     "text": [
      "File Content:\n",
      "Hello, this is a test file.\n",
      "This file is created using Python.\n",
      "\n"
     ]
    }
   ],
   "source": [
    "\n",
    "with open(\"example.txt\", \"w\") as file:\n",
    "    file.write(\"Hello, this is a test file.\\n\")\n",
    "    file.write(\"This file is created using Python.\\n\")\n",
    "\n",
    "\n",
    "with open(\"example.txt\", \"r\") as file:\n",
    "    content = file.read()\n",
    "    print(\"File Content:\")\n",
    "    print(content)"
   ]
  },
  {
   "cell_type": "code",
   "execution_count": null,
   "metadata": {
    "colab": {
     "base_uri": "https://localhost:8080/"
    },
    "executionInfo": {
     "elapsed": 12,
     "status": "ok",
     "timestamp": 1743446082780,
     "user": {
      "displayName": "Jahnavi Patel",
      "userId": "16011445698345751611"
     },
     "user_tz": -330
    },
    "id": "_GQV8oLoapCj",
    "outputId": "01db49f3-cae0-45c6-d0ab-06296a966335"
   },
   "outputs": [
    {
     "name": "stdout",
     "output_type": "stream",
     "text": [
      "Odd Numbers:\n",
      "\n",
      "Even Numbers:\n",
      "14\n",
      "56\n",
      "72\n",
      "90\n",
      "88\n",
      "\n"
     ]
    }
   ],
   "source": [
    "\n",
    "numbers = [14, 23, 56, 87, 107, 72, 90, 63, 88, 95]\n",
    "\n",
    "\n",
    "with open(\"odd_numbers.txt\", \"w\") as odd_file, open(\"even_numbers.txt\", \"w\") as even_file:\n",
    "    for num in numbers:\n",
    "        if num % 2 == 0:\n",
    "            even_file.write(f\"{num}\\n\")\n",
    "\n",
    "\n",
    "print(\"Odd Numbers:\")\n",
    "with open(\"odd_numbers.txt\", \"r\") as odd_file:\n",
    "    print(odd_file.read())\n",
    "\n",
    "print(\"Even Numbers:\")\n",
    "with open(\"even_numbers.txt\", \"r\") as even_file:\n",
    "    print(even_file.read())\n"
   ]
  },
  {
   "cell_type": "code",
   "execution_count": 5,
   "metadata": {
    "colab": {
     "base_uri": "https://localhost:8080/"
    },
    "executionInfo": {
     "elapsed": 127,
     "status": "ok",
     "timestamp": 1743446158970,
     "user": {
      "displayName": "Jahnavi Patel",
      "userId": "16011445698345751611"
     },
     "user_tz": -330
    },
    "id": "yPy4VcmMew1G",
    "outputId": "1dac9eec-e594-4885-f42b-0e8e940a096c"
   },
   "outputs": [
    {
     "name": "stdout",
     "output_type": "stream",
     "text": [
      "Five words from the file: ['Hello,', 'this', 'is', 'a', 'test']\n"
     ]
    }
   ],
   "source": [
    "with open(\"example.txt\", \"r\") as file:\n",
    "    words = file.read().split()\n",
    "    print(\"Five words from the file:\", words[:5])"
   ]
  },
  {
   "cell_type": "code",
   "execution_count": 6,
   "metadata": {
    "colab": {
     "base_uri": "https://localhost:8080/"
    },
    "executionInfo": {
     "elapsed": 10,
     "status": "ok",
     "timestamp": 1743446173501,
     "user": {
      "displayName": "Jahnavi Patel",
      "userId": "16011445698345751611"
     },
     "user_tz": -330
    },
    "id": "do2xSpCiewx4",
    "outputId": "3de72e6a-3183-4ce7-c604-22bc156b9dd6"
   },
   "outputs": [
    {
     "name": "stdout",
     "output_type": "stream",
     "text": [
      "Triangle Pattern:\n",
      "* \n",
      "* * \n",
      "* * * \n",
      "* * * * \n",
      "* * * * * \n",
      "\n"
     ]
    }
   ],
   "source": [
    "\n",
    "triangle_pattern = \"\"\n",
    "rows = 5\n",
    "for i in range(1, rows + 1):\n",
    "    triangle_pattern += \"* \" * i + \"\\n\"\n",
    "\n",
    "\n",
    "with open(\"triangle.txt\", \"w\") as file:\n",
    "    file.write(triangle_pattern)\n",
    "\n",
    "\n",
    "with open(\"triangle.txt\", \"r\") as file:\n",
    "    print(\"Triangle Pattern:\")\n",
    "    print(file.read())\n"
   ]
  }
 ],
 "metadata": {
  "colab": {
   "authorship_tag": "ABX9TyOFnAJA39g23UoCY+RLqJId",
   "provenance": []
  },
  "kernelspec": {
   "display_name": "Python 3",
   "name": "python3"
  },
  "language_info": {
   "name": "python"
  }
 },
 "nbformat": 4,
 "nbformat_minor": 0
}
