{
 "cells": [
  {
   "cell_type": "markdown",
   "metadata": {},
   "source": [
    "Basics of function \n",
    "\n",
    "Define a simple function that takes inputs and returns an output. \n",
    "Define a function with positional, keyword, default, and variable-length arguments \n",
    "Define a function that returns the multiple values using tuple. \n",
    "Define an anonymous function using lamba keyword \n",
    "Define a function inside another function. \n",
    "Create and use decorators to modify the behavior of functions. \n",
    "Define a function that calls itself to solve a problem recursively. \n",
    "Define functions that take other functions as arguments or return functions as results. \n",
    "Add docstrings to functions to document their purpose and usage. \n",
    "Use type annotations to specify the expected types of function arguments and return values."
   ]
  },
  {
   "cell_type": "code",
   "execution_count": 1,
   "metadata": {},
   "outputs": [
    {
     "name": "stdout",
     "output_type": "stream",
     "text": [
      "12\n"
     ]
    }
   ],
   "source": [
    "def function1(input):\n",
    "    return input\n",
    "\n",
    "print(function1(12))"
   ]
  },
  {
   "cell_type": "code",
   "execution_count": null,
   "metadata": {},
   "outputs": [
    {
     "name": "stdout",
     "output_type": "stream",
     "text": [
      "Name: pranjal, Age: 30\n",
      "Name: charmy, City: vadodara\n",
      "Name: hetvi, City: surat\n",
      "Name: pranjal, City: vadodara\n",
      "Name: hetvi, City: surat\n",
      "Name: khushi\n",
      "30\n",
      "vadodara\n",
      "123-456-7890\n"
     ]
    }
   ],
   "source": [
    "#Define a function with positional, keyword, default, and variable-length arguments \n",
    "\n",
    "def positional(name, age):\n",
    "    print(f\"Name: {name}, Age: {age}\")\n",
    "\n",
    "positional(\"pranjal\", 30)\n",
    "\n",
    "def keyword(name=\"charmy\", city=\"vadodara\"):\n",
    "    print(f\"Name: {name}, City: {city}\")\n",
    "\n",
    "keyword()\n",
    "keyword(name=\"hetvi\", city=\"surat\")\n",
    "\n",
    "def default(name, city=\"vadodara\"):\n",
    "    print(f\"Name: {name}, City: {city}\")\n",
    "\n",
    "default(\"pranjal\")\n",
    "default(\"hetvi\", \"surat\")\n",
    "\n",
    "\n",
    "def variable(name, *args):\n",
    "    print(f\"Name: {name}\")\n",
    "    for arg in args:\n",
    "        print(arg)\n",
    "\n",
    "variable(\"khushi\", 30, \"vadodara\", \"1234567890\")\n",
    "\n",
    "\n",
    "\n"
   ]
  },
  {
   "cell_type": "code",
   "execution_count": 12,
   "metadata": {},
   "outputs": [
    {
     "name": "stdout",
     "output_type": "stream",
     "text": [
      "Coordinates: (10, 20)\n"
     ]
    }
   ],
   "source": [
    "def get_coordinates():\n",
    "    x, y = 10, 20\n",
    "    return x, y\n",
    "\n",
    "coordinates = get_coordinates()\n",
    "print(\"Coordinates:\", coordinates)"
   ]
  },
  {
   "cell_type": "code",
   "execution_count": 1,
   "metadata": {},
   "outputs": [
    {
     "name": "stdout",
     "output_type": "stream",
     "text": [
      "30\n"
     ]
    }
   ],
   "source": [
    "#Define an anonymous function using lamba keyword \n",
    "\n",
    "add = lambda x, y: x + y\n",
    "print(add(10, 20))"
   ]
  },
  {
   "cell_type": "code",
   "execution_count": 17,
   "metadata": {},
   "outputs": [
    {
     "name": "stdout",
     "output_type": "stream",
     "text": [
      "Outer Function\n",
      "Inner Function\n"
     ]
    }
   ],
   "source": [
    "#Define a function inside another function. \n",
    "\n",
    "def outer_function():\n",
    "    print(\"Outer Function\")\n",
    "    def inner_function():\n",
    "        print(\"Inner Function\")\n",
    "    inner_function()\n",
    "\n",
    "outer_function()"
   ]
  },
  {
   "cell_type": "code",
   "execution_count": null,
   "metadata": {},
   "outputs": [
    {
     "name": "stdout",
     "output_type": "stream",
     "text": [
      "HELLO!\n"
     ]
    }
   ],
   "source": [
    "#Create and use decorators to modify the behavior of functions such as converting to uppercase.\n",
    "\n",
    "def uppercase_decorator(function):\n",
    "    def wrapper():\n",
    "        result = function()\n",
    "        uppercased = result.upper()\n",
    "        return uppercased\n",
    "    return wrapper\n",
    "\n",
    "@uppercase_decorator\n",
    "def say_hello():\n",
    "    return \"Hello!\"\n",
    "\n",
    "print(say_hello())\n",
    "\n"
   ]
  },
  {
   "cell_type": "code",
   "execution_count": 20,
   "metadata": {},
   "outputs": [
    {
     "name": "stdout",
     "output_type": "stream",
     "text": [
      "120\n"
     ]
    }
   ],
   "source": [
    "#Define a function that calls itself to solve a problem recursively.\n",
    "\n",
    "def factorial(n):\n",
    "    if n == 1:\n",
    "        return 1\n",
    "    return n * factorial(n - 1)\n",
    "\n",
    "print(factorial(5))"
   ]
  },
  {
   "cell_type": "code",
   "execution_count": 21,
   "metadata": {},
   "outputs": [
    {
     "name": "stdout",
     "output_type": "stream",
     "text": [
      "Hello!\n",
      "Welcome!\n"
     ]
    }
   ],
   "source": [
    "#Define functions that take other functions as arguments or return functions as results.\n",
    "\n",
    "def greet():\n",
    "    return \"Hello!\"\n",
    "\n",
    "def welcome():\n",
    "    return \"Welcome!\"\n",
    "\n",
    "def function_executor(func):\n",
    "    return func()\n",
    "\n",
    "print(function_executor(greet))\n",
    "print(function_executor(welcome))\n"
   ]
  },
  {
   "cell_type": "code",
   "execution_count": 23,
   "metadata": {},
   "outputs": [
    {
     "name": "stdout",
     "output_type": "stream",
     "text": [
      "\n",
      "    Divides two numbers and returns the result.\n",
      "\n",
      "    Parameters:\n",
      "    a (float): The numerator.\n",
      "    b (float): The denominator.\n",
      "\n",
      "    Returns:\n",
      "    float: The result of division.\n",
      "\n",
      "    Raises:\n",
      "    ValueError: If the denominator is zero.\n",
      "    \n"
     ]
    }
   ],
   "source": [
    "#Add docstrings to functions to document their purpose and usage. \n",
    "\n",
    "def divide(a: float, b: float) -> float:\n",
    "    \"\"\"\n",
    "    Divides two numbers and returns the result.\n",
    "\n",
    "    Parameters:\n",
    "    a (float): The numerator.\n",
    "    b (float): The denominator.\n",
    "\n",
    "    Returns:\n",
    "    float: The result of division.\n",
    "\n",
    "    Raises:\n",
    "    ValueError: If the denominator is zero.\n",
    "    \"\"\"\n",
    "    if b == 0:\n",
    "        raise ValueError(\"Cannot divide by zero.\")\n",
    "    return a / b\n",
    "\n",
    "print(divide.__doc__)\n"
   ]
  },
  {
   "cell_type": "code",
   "execution_count": null,
   "metadata": {},
   "outputs": [
    {
     "name": "stdout",
     "output_type": "stream",
     "text": [
      "30\n",
      "HelloWorld\n"
     ]
    }
   ],
   "source": [
    "#Use type annotations to specify the expected types of function arguments and return values.\n",
    "\n",
    "def add(a: int, b: int) -> int:\n",
    "    return a + b\n",
    "\n",
    "print(add(10, 20))\n"
   ]
  },
  {
   "cell_type": "markdown",
   "metadata": {},
   "source": [
    "Basics of loops \n",
    "\n",
    "Iterate over a sequence (list, tuple, string, or range) using a for loop. \n",
    "Repeat a block of code as long as a condition is true using a while loop. \n",
    "Use loops inside other loops to handle multi-dimensional data structures. \n",
    "Use break, continue, and pass to control the flow of loops. \n",
    "Use the enumerate function to get both the index and value while iterating over a sequence. \n",
    "Use the range function to generate a sequence of numbers for iteration. \n",
    "Iterate over the key-value pairs of a dictionary using a for loop. \n",
    "Use list comprehensions to create new lists by applying an expression to each item in an existing list. "
   ]
  },
  {
   "cell_type": "code",
   "execution_count": 26,
   "metadata": {},
   "outputs": [
    {
     "name": "stdout",
     "output_type": "stream",
     "text": [
      "0\n",
      "1\n",
      "2\n",
      "3\n",
      "4\n",
      "string\n",
      "h\n",
      "e\n",
      "l\n",
      "l\n",
      "o\n",
      "[1, 2, 3, 4]\n",
      "1\n",
      "2\n",
      "3\n",
      "4\n",
      "tuple\n",
      "5\n",
      "6\n",
      "7\n",
      "8\n",
      "9\n"
     ]
    }
   ],
   "source": [
    "#Iterate over a sequence (list, tuple, string, or range) using a for loop.\n",
    "\n",
    "for i in range(5):\n",
    "    print(i)\n",
    "\n",
    "print(\"string\")\n",
    "for char in \"hello\":\n",
    "    print(char)\n",
    "\n",
    "list = [1,2,3,4]\n",
    "print(list)\n",
    "for l in list:\n",
    "    print(l)\n",
    "\n",
    "tuple = (5,6,7,8,9)\n",
    "print(\"tuple\")\n",
    "for t in tuple:\n",
    "    print(t)\n",
    "\n"
   ]
  },
  {
   "cell_type": "code",
   "execution_count": 29,
   "metadata": {},
   "outputs": [
    {
     "name": "stdout",
     "output_type": "stream",
     "text": [
      "block printing\n",
      "block printing\n",
      "block printing\n",
      "block printing\n",
      "block printing\n"
     ]
    }
   ],
   "source": [
    "#Repeat a block of code as long as a condition is true using a while loop.\n",
    " \n",
    "i = 5\n",
    "while(i):\n",
    "    print(\"block printing\")\n",
    "    i = i -1"
   ]
  },
  {
   "cell_type": "code",
   "execution_count": 37,
   "metadata": {},
   "outputs": [
    {
     "name": "stdout",
     "output_type": "stream",
     "text": [
      "1  \n",
      "2  \n",
      "3  \n",
      "4  \n",
      "5  \n",
      "6  \n",
      "7  \n",
      "8  \n",
      "9  \n"
     ]
    }
   ],
   "source": [
    "#Use loops inside other loops to handle multi-dimensional data structures.\n",
    "\n",
    "matrix = [[1, 2, 3], [4, 5, 6], [7, 8, 9]]\n",
    "for row in matrix:\n",
    "    for item in row:\n",
    "        print(item,\" \")"
   ]
  },
  {
   "cell_type": "code",
   "execution_count": 38,
   "metadata": {},
   "outputs": [
    {
     "name": "stdout",
     "output_type": "stream",
     "text": [
      "0\n",
      "1\n",
      "2\n",
      "4\n",
      "5\n",
      "6\n"
     ]
    }
   ],
   "source": [
    "#Use break, continue, and pass to control the flow of loops.\n",
    "\n",
    "for i in range(10):\n",
    "    if i == 3:\n",
    "        continue\n",
    "    if i == 7:\n",
    "        break\n",
    "    if i % 2 == 0:\n",
    "        pass\n",
    "    print(i)\n"
   ]
  },
  {
   "cell_type": "code",
   "execution_count": 39,
   "metadata": {},
   "outputs": [
    {
     "name": "stdout",
     "output_type": "stream",
     "text": [
      "Index: 0, Value: a\n",
      "Index: 1, Value: b\n",
      "Index: 2, Value: c\n",
      "Index: 3, Value: d\n"
     ]
    }
   ],
   "source": [
    "#Use the enumerate function to get both the index and value while iterating over a sequence. \n",
    "\n",
    "sequence = ['a', 'b', 'c', 'd']\n",
    "for index, value in enumerate(sequence):\n",
    "    print(f\"Index: {index}, Value: {value}\")"
   ]
  },
  {
   "cell_type": "code",
   "execution_count": 40,
   "metadata": {},
   "outputs": [
    {
     "name": "stdout",
     "output_type": "stream",
     "text": [
      "0\n",
      "1\n",
      "2\n",
      "3\n",
      "4\n",
      "5\n",
      "6\n",
      "7\n",
      "8\n",
      "9\n"
     ]
    }
   ],
   "source": [
    "#Use the range function to generate a sequence of numbers for iteration.\n",
    "for i in range(10):\n",
    "    print(i)\n"
   ]
  },
  {
   "cell_type": "code",
   "execution_count": 41,
   "metadata": {},
   "outputs": [
    {
     "name": "stdout",
     "output_type": "stream",
     "text": [
      "Key: name, Value: Alice\n",
      "Key: age, Value: 25\n",
      "Key: gender, Value: F\n"
     ]
    }
   ],
   "source": [
    "#Iterate over the key-value pairs of a dictionary using a for loop.\n",
    "\n",
    "dictionary = {'name': 'Alice', 'age': 25, 'gender': 'F'}\n",
    "for key, value in dictionary.items():\n",
    "    print(f\"Key: {key}, Value: {value}\")"
   ]
  },
  {
   "cell_type": "code",
   "execution_count": 43,
   "metadata": {},
   "outputs": [
    {
     "name": "stdout",
     "output_type": "stream",
     "text": [
      "[1, 4, 9, 16, 25]\n"
     ]
    }
   ],
   "source": [
    "#Use list comprehensions to create new lists by applying an expression to each item in an existing list. \n",
    "\n",
    "numbers = [1, 2, 3, 4, 5]\n",
    "squared_numbers = [x**2 for x in numbers]\n",
    "print(squared_numbers)"
   ]
  }
 ],
 "metadata": {
  "kernelspec": {
   "display_name": "Python 3",
   "language": "python",
   "name": "python3"
  },
  "language_info": {
   "codemirror_mode": {
    "name": "ipython",
    "version": 3
   },
   "file_extension": ".py",
   "mimetype": "text/x-python",
   "name": "python",
   "nbconvert_exporter": "python",
   "pygments_lexer": "ipython3",
   "version": "3.12.4"
  }
 },
 "nbformat": 4,
 "nbformat_minor": 2
}
