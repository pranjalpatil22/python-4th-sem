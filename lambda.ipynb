{
 "cells": [
  {
   "cell_type": "markdown",
   "metadata": {},
   "source": [
    "Create a lambda function that adds two numbers.\n",
    "Create a lambda function that squares a given number.\n",
    "Create a lambda function that converts Celsius to Fahrenheit.\n",
    "Create a lambda function used to sort a list of tuples based on the second element.\n",
    "Create a lambda function used to filter even numbers from a list.\n",
    "Create lambda function that uses another lambda function to perform a complex operation."
   ]
  },
  {
   "cell_type": "code",
   "execution_count": 1,
   "metadata": {},
   "outputs": [
    {
     "name": "stdout",
     "output_type": "stream",
     "text": [
      "8\n"
     ]
    }
   ],
   "source": [
    "#Create a lambda function that adds two numbers.\n",
    "\n",
    "add = lambda x, y: x + y\n",
    "print(add(5, 3))\n"
   ]
  },
  {
   "cell_type": "code",
   "execution_count": 2,
   "metadata": {},
   "outputs": [
    {
     "name": "stdout",
     "output_type": "stream",
     "text": [
      "Square: 16\n"
     ]
    }
   ],
   "source": [
    "square = lambda x: x ** 2\n",
    "print(\"Square:\", square(4))  \n"
   ]
  },
  {
   "cell_type": "code",
   "execution_count": 3,
   "metadata": {},
   "outputs": [
    {
     "name": "stdout",
     "output_type": "stream",
     "text": [
      "Celsius to Fahrenheit: 77.0\n"
     ]
    }
   ],
   "source": [
    "celsius_to_fahrenheit = lambda c: (c * 9/5) + 32\n",
    "print(\"Celsius to Fahrenheit:\", celsius_to_fahrenheit(25))  \n"
   ]
  },
  {
   "cell_type": "code",
   "execution_count": 4,
   "metadata": {},
   "outputs": [
    {
     "name": "stdout",
     "output_type": "stream",
     "text": [
      "Sorted list based on second element: [(3, 1), (2, 2), (1, 3)]\n"
     ]
    }
   ],
   "source": [
    "tuples_list = [(1, 3), (2, 2), (3, 1)]\n",
    "sorted_list = sorted(tuples_list, key=lambda x: x[1])\n",
    "print(\"Sorted list based on second element:\", sorted_list) "
   ]
  },
  {
   "cell_type": "code",
   "execution_count": null,
   "metadata": {},
   "outputs": [
    {
     "name": "stdout",
     "output_type": "stream",
     "text": [
      "Even numbers: [2, 4, 6]\n"
     ]
    }
   ],
   "source": [
    "numbers = [1, 2, 3, 4, 5, 6]\n",
    "even_numbers = list(filter(lambda x: x % 2 == 0, numbers))\n",
    "print(\"Even numbers:\", even_numbers)  "
   ]
  },
  {
   "cell_type": "code",
   "execution_count": 6,
   "metadata": {},
   "outputs": [
    {
     "name": "stdout",
     "output_type": "stream",
     "text": [
      "Complex operation: 15\n"
     ]
    }
   ],
   "source": [
    "multiply = lambda x, y: x * y\n",
    "complex_operation = lambda x: multiply(x, x + 2)\n",
    "print(\"Complex operation:\", complex_operation(3))"
   ]
  }
 ],
 "metadata": {
  "kernelspec": {
   "display_name": "Python 3",
   "language": "python",
   "name": "python3"
  },
  "language_info": {
   "codemirror_mode": {
    "name": "ipython",
    "version": 3
   },
   "file_extension": ".py",
   "mimetype": "text/x-python",
   "name": "python",
   "nbconvert_exporter": "python",
   "pygments_lexer": "ipython3",
   "version": "3.12.4"
  }
 },
 "nbformat": 4,
 "nbformat_minor": 2
}
