{
 "cells": [
  {
   "cell_type": "code",
   "execution_count": 1,
   "metadata": {
    "colab": {
     "base_uri": "https://localhost:8080/"
    },
    "executionInfo": {
     "elapsed": 175,
     "status": "ok",
     "timestamp": 1743447122227,
     "user": {
      "displayName": "Jahnavi Patel",
      "userId": "16011445698345751611"
     },
     "user_tz": -330
    },
    "id": "1O7LSaT2hn1j",
    "outputId": "605390d3-8924-4ead-be88-391a93e3e849"
   },
   "outputs": [
    {
     "name": "stdout",
     "output_type": "stream",
     "text": [
      "Student added successfully!\n",
      "Student added successfully!\n",
      "(1, 'pranjal', 20, 'A')\n",
      "(2, 'isha', 22, 'B')\n",
      "Student updated successfully!\n",
      "Student deleted successfully!\n",
      "(1, 'pranjal patil', 21, 'A+')\n"
     ]
    }
   ],
   "source": [
    "import sqlite3\n",
    "\n",
    "\n",
    "def initialize_db():\n",
    "    try:\n",
    "        conn = sqlite3.connect(\"students.db\")\n",
    "        cursor = conn.cursor()\n",
    "        cursor.execute('''CREATE TABLE IF NOT EXISTS students (\n",
    "                            id INTEGER PRIMARY KEY AUTOINCREMENT,\n",
    "                            name TEXT NOT NULL,\n",
    "                            age INTEGER NOT NULL,\n",
    "                            grade TEXT NOT NULL)''')\n",
    "        conn.commit()\n",
    "    except sqlite3.Error as e:\n",
    "        print(\"Database error:\", e)\n",
    "    finally:\n",
    "        conn.close()\n",
    "\n",
    "\n",
    "def add_student(name, age, grade):\n",
    "    try:\n",
    "        conn = sqlite3.connect(\"students.db\")\n",
    "        cursor = conn.cursor()\n",
    "        cursor.execute(\"INSERT INTO students (name, age, grade) VALUES (?, ?, ?)\", (name, age, grade))\n",
    "        conn.commit()\n",
    "        print(\"Student added successfully!\")\n",
    "    except sqlite3.Error as e:\n",
    "        print(\"Database error:\", e)\n",
    "    finally:\n",
    "        conn.close()\n",
    "\n",
    "\n",
    "def update_student(student_id, name, age, grade):\n",
    "    try:\n",
    "        conn = sqlite3.connect(\"students.db\")\n",
    "        cursor = conn.cursor()\n",
    "        cursor.execute(\"UPDATE students SET name=?, age=?, grade=? WHERE id=?\", (name, age, grade, student_id))\n",
    "        conn.commit()\n",
    "        print(\"Student updated successfully!\")\n",
    "    except sqlite3.Error as e:\n",
    "        print(\"Database error:\", e)\n",
    "    finally:\n",
    "        conn.close()\n",
    "\n",
    "\n",
    "def delete_student(student_id):\n",
    "    try:\n",
    "        conn = sqlite3.connect(\"students.db\")\n",
    "        cursor = conn.cursor()\n",
    "        cursor.execute(\"DELETE FROM students WHERE id=?\", (student_id,))\n",
    "        conn.commit()\n",
    "        print(\"Student deleted successfully!\")\n",
    "    except sqlite3.Error as e:\n",
    "        print(\"Database error:\", e)\n",
    "    finally:\n",
    "        conn.close()\n",
    "\n",
    "\n",
    "def display_students():\n",
    "    try:\n",
    "        conn = sqlite3.connect(\"students.db\")\n",
    "        cursor = conn.cursor()\n",
    "        cursor.execute(\"SELECT * FROM students\")\n",
    "        students = cursor.fetchall()\n",
    "        for student in students:\n",
    "            print(student)\n",
    "    except sqlite3.Error as e:\n",
    "        print(\"Database error:\", e)\n",
    "    finally:\n",
    "        conn.close()\n",
    "\n",
    "\n",
    "def search_students(name):\n",
    "    try:\n",
    "        conn = sqlite3.connect(\"students.db\")\n",
    "        cursor = conn.cursor()\n",
    "        cursor.execute(\"SELECT * FROM students WHERE name LIKE ?\", (\"%\" + name + \"%\",))\n",
    "        results = cursor.fetchall()\n",
    "        for student in results:\n",
    "            print(student)\n",
    "    except sqlite3.Error as e:\n",
    "        print(\"Database error:\", e)\n",
    "    finally:\n",
    "        conn.close()\n",
    "\n",
    "\n",
    "initialize_db()\n",
    "\n",
    "\n",
    "add_student(\"pranjal\", 20, \"A\")\n",
    "add_student(\"isha\", 22, \"B\")\n",
    "display_students()\n",
    "update_student(1, \"pranjal patil\", 21, \"A+\")\n",
    "delete_student(2)\n",
    "search_students(\"pranjal\")\n"
   ]
  }
 ],
 "metadata": {
  "colab": {
   "authorship_tag": "ABX9TyMY6gcb94vpOQv6NqE+bjXn",
   "provenance": []
  },
  "kernelspec": {
   "display_name": "Python 3",
   "name": "python3"
  },
  "language_info": {
   "codemirror_mode": {
    "name": "ipython",
    "version": 3
   },
   "file_extension": ".py",
   "mimetype": "text/x-python",
   "name": "python",
   "nbconvert_exporter": "python",
   "pygments_lexer": "ipython3",
   "version": "3.12.4"
  }
 },
 "nbformat": 4,
 "nbformat_minor": 0
}
