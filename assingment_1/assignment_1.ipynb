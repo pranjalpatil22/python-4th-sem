{
 "cells": [
  {
   "cell_type": "code",
   "execution_count": 3,
   "metadata": {},
   "outputs": [
    {
     "name": "stdout",
     "output_type": "stream",
     "text": [
      "(1, 2, 3, 4, 4, 5, 6, 6, 7, 7, 8, 8, 9)\n",
      "(1, 2, 3, 4, 5, 6, 7, 8, 9)\n"
     ]
    }
   ],
   "source": [
    "def removeDuplicate(input_tuple):\n",
    "    return tuple(set(input_tuple))\n",
    "\n",
    "\n",
    "input_tuple = (1, 2, 3, 4, 4, 5, 6, 6, 7, 7,8,8, 9)\n",
    "output_tuple = removeDuplicate(input_tuple)\n",
    "print(input_tuple)\n",
    "print(output_tuple)\n",
    "\n"
   ]
  },
  {
   "cell_type": "code",
   "execution_count": 4,
   "metadata": {},
   "outputs": [
    {
     "name": "stdout",
     "output_type": "stream",
     "text": [
      "Original List of Students: [('Alice', 85), ('Bob', 92), ('Charlie', 78), ('Diana', 88)]\n",
      "Sorted by Marks: [('Charlie', 78), ('Alice', 85), ('Diana', 88), ('Bob', 92)]\n"
     ]
    }
   ],
   "source": [
    "students = [(\"Alice\", 85), (\"Bob\", 92), (\"Charlie\", 78), (\"Diana\", 88)]\n",
    "\n",
    "sorted_students = sorted(students, key = lambda  x: x[1])\n",
    "\n",
    "print(\"Original List of Students:\", students)\n",
    "print(\"Sorted by Marks:\", sorted_students)"
   ]
  },
  {
   "cell_type": "code",
   "execution_count": 6,
   "metadata": {},
   "outputs": [
    {
     "name": "stdout",
     "output_type": "stream",
     "text": [
      "Input Tuple: (1, 2, 2, 3, 3, 3, 4, 4, 4, 4)\n",
      "Frequency of the Elements: Counter({4: 4, 3: 3, 2: 2, 1: 1})\n"
     ]
    }
   ],
   "source": [
    "from collections import Counter\n",
    "\n",
    "def count_frequency(input_tuple):\n",
    "    return Counter(input_tuple)\n",
    "\n",
    "input_tuple = (1, 2, 2, 3, 3, 3, 4, 4, 4, 4)\n",
    "frequency = count_frequency(input_tuple)\n",
    "\n",
    "print(\"Input Tuple:\", input_tuple)\n",
    "print(\"Frequency of the Elements:\", frequency)"
   ]
  },
  {
   "cell_type": "code",
   "execution_count": 7,
   "metadata": {},
   "outputs": [],
   "source": [
    "def adder(*num):\n",
    "    sum = 0\n",
    "    # sum = sum + num\n",
    "    for n in num:\n",
    "        sum = sum + n\n",
    "\n",
    "    print(\"sum\",sum)"
   ]
  },
  {
   "cell_type": "code",
   "execution_count": null,
   "metadata": {},
   "outputs": [
    {
     "name": "stdout",
     "output_type": "stream",
     "text": [
      "sum 21\n",
      "sum 22\n",
      "sum 17\n"
     ]
    }
   ],
   "source": [
    "adder(3,9,9)\n",
    "adder(4,5,6,7)\n",
    "adder(1,2,3,5,6)\n",
    "\n",
    "##if input is in tuple,sum,list what changes what do we needin function"
   ]
  },
  {
   "cell_type": "code",
   "execution_count": 12,
   "metadata": {},
   "outputs": [],
   "source": [
    "def intro(**data):\n",
    "    print(\"data type is :\", type(data))\n",
    "    for key , value in data.items():\n",
    "        print(\"{} is {}\".format(key,value))"
   ]
  },
  {
   "cell_type": "code",
   "execution_count": 13,
   "metadata": {},
   "outputs": [
    {
     "name": "stdout",
     "output_type": "stream",
     "text": [
      "data type is : <class 'dict'>\n",
      "Firstname is pranjal\n",
      "Lastname is patil\n",
      "Age is 20\n",
      "Phone is 88989899\n"
     ]
    }
   ],
   "source": [
    "intro(Firstname = \"pranjal\", Lastname = \"patil\", Age = 20, Phone = 88989899)"
   ]
  },
  {
   "cell_type": "code",
   "execution_count": 2,
   "metadata": {},
   "outputs": [],
   "source": [
    "def mul(a1,**a2):\n",
    "    print(a1)\n",
    "    \n",
    "    for key,value in a2.items():\n",
    "        print(\"{} is {}\".format(key,value))"
   ]
  },
  {
   "cell_type": "code",
   "execution_count": 3,
   "metadata": {},
   "outputs": [
    {
     "name": "stdout",
     "output_type": "stream",
     "text": [
      "hi\n",
      "name is pranjal\n",
      "age is 20\n",
      "phone is 88989899\n"
     ]
    }
   ],
   "source": [
    "mul(\"hi\",name = \"pranjal\", age = 20, phone = 88989899)"
   ]
  },
  {
   "cell_type": "code",
   "execution_count": 7,
   "metadata": {},
   "outputs": [
    {
     "name": "stdout",
     "output_type": "stream",
     "text": [
      "Search by Name: (102, 'Bob', 92)\n",
      "Search by ID: (103, 'Charlie', 78)\n"
     ]
    }
   ],
   "source": [
    "records = [\n",
    "    (101, \"Alice\", 85),\n",
    "    (102, \"Bob\", 92),\n",
    "    (103, \"Charlie\", 78),\n",
    "    (104, \"Diana\", 88)\n",
    "]\n",
    "\n",
    "def search_record(records: list, key: str, value):\n",
    "    if key == \"name\":\n",
    "        for record in records:\n",
    "            if record[1] == value:\n",
    "                return record\n",
    "    elif key == \"id\":\n",
    "        for record in records:\n",
    "            if record[0] == value:\n",
    "                return record\n",
    "            \n",
    "\n",
    "print(\"Search by Name:\", search_record(records, \"name\", \"Bob\"))\n",
    "print(\"Search by ID:\", search_record(records, \"id\", 103))\n",
    "\n"
   ]
  },
  {
   "cell_type": "code",
   "execution_count": null,
   "metadata": {},
   "outputs": [],
   "source": [
    "#Apply list concepts to real-world scenarios. "
   ]
  },
  {
   "cell_type": "code",
   "execution_count": 8,
   "metadata": {},
   "outputs": [
    {
     "name": "stdout",
     "output_type": "stream",
     "text": [
      "Prime numbers between 10 and 40: [11, 13, 17, 19, 23, 29, 31, 37]\n"
     ]
    }
   ],
   "source": [
    "def is_prime(num):\n",
    "    if num <= 1:\n",
    "        return False\n",
    "    for i in range(2, num):\n",
    "        if num % i == 0:\n",
    "            return False\n",
    "    return True\n",
    "\n",
    "def get_primes(strat,end):\n",
    "    primes = []\n",
    "    for i in range(strat, end):\n",
    "        if is_prime(i):\n",
    "            primes.append(i)\n",
    "    return primes\n",
    "\n",
    "\n",
    "prime_numbers = get_primes(10, 40)\n",
    "print(f\"Prime numbers between 10 and 40: {prime_numbers}\")"
   ]
  },
  {
   "cell_type": "code",
   "execution_count": 9,
   "metadata": {},
   "outputs": [
    {
     "name": "stdout",
     "output_type": "stream",
     "text": [
      "Flattened list: [1, 2, 3, 4, 5, 6, 7, 8, 9]\n"
     ]
    }
   ],
   "source": [
    "def flatten_list(nested_list):\n",
    "    \"\"\"Flatten a nested list using recursion.\"\"\"\n",
    "    flattened = []\n",
    "    for element in nested_list:\n",
    "        if isinstance(element, list):\n",
    "            flattened.extend(flatten_list(element))  \n",
    "        else:\n",
    "            flattened.append(element)\n",
    "    return flattened\n",
    "\n",
    "# Example usage\n",
    "nested_list = [1, [2, [3, 4], 5], 6, [7, 8], 9]\n",
    "flattened = flatten_list(nested_list)\n",
    "print(f\"Flattened list: {flattened}\")"
   ]
  },
  {
   "cell_type": "code",
   "execution_count": 10,
   "metadata": {},
   "outputs": [
    {
     "name": "stdout",
     "output_type": "stream",
     "text": [
      "The second largest element is: 34\n"
     ]
    }
   ],
   "source": [
    "def find_second_largest(nums):\n",
    "    first = second = float('-inf')  \n",
    "    for num in nums:\n",
    "        if num > first:\n",
    "            second = first\n",
    "            first = num\n",
    "        elif first > num > second:\n",
    "            second = num\n",
    "    return second if second != float('-inf') else None  \n",
    "\n",
    "\n",
    "numbers = [12, 35, 1, 10, 34, 1]\n",
    "second_largest = find_second_largest(numbers)\n",
    "print(f\"The second largest element is: {second_largest}\")\n"
   ]
  },
  {
   "cell_type": "code",
   "execution_count": 2,
   "metadata": {},
   "outputs": [
    {
     "name": "stdout",
     "output_type": "stream",
     "text": [
      "Processing Task: Task 1\n",
      "Processing Task: Task 2\n",
      "Processing Task: Task 3\n"
     ]
    }
   ],
   "source": [
    "#Use a list to manage a task queue, where tasks are added, removed, and processed sequentially. \n",
    "\n",
    "class TaskQueue:\n",
    "    def __init__(self):\n",
    "        self.tasks = []\n",
    "\n",
    "    def add_task(self, task):\n",
    "        self.tasks.append(task)\n",
    "\n",
    "    def next_task(self):\n",
    "        if self.tasks:\n",
    "            return self.tasks.pop(0)\n",
    "        return \"Task Queue is Empty\"\n",
    "\n",
    "    def process_tasks(self):\n",
    "        while self.tasks:\n",
    "            task = self.next_task()\n",
    "            print(\"Processing Task:\", task)\n",
    "\n",
    "task_queue = TaskQueue()\n",
    "task_queue.add_task(\"Task 1\")\n",
    "task_queue.add_task(\"Task 2\")\n",
    "task_queue.add_task(\"Task 3\")\n",
    "\n",
    "task_queue.process_tasks()\n",
    "\n",
    "\n"
   ]
  },
  {
   "cell_type": "code",
   "execution_count": null,
   "metadata": {},
   "outputs": [],
   "source": [
    "#Apply dictionary concepts to real-world scenarios. "
   ]
  },
  {
   "cell_type": "code",
   "execution_count": 4,
   "metadata": {},
   "outputs": [
    {
     "name": "stdout",
     "output_type": "stream",
     "text": [
      "Word Frequency: {'the': 2, 'quick': 1, 'brown': 1, 'fox': 1, 'jumps': 1, 'over': 1, 'lazy': 1, 'dog': 2}\n"
     ]
    }
   ],
   "source": [
    "#Write a program to count the frequency of each word in a string and store it in a dictionary.\n",
    "\n",
    "def count_words(sentence):\n",
    "    word_count = {}\n",
    "    for word in sentence.split():\n",
    "        if word in word_count:\n",
    "            word_count[word] += 1\n",
    "        else:\n",
    "            word_count[word] = 1\n",
    "    return word_count\n",
    "\n",
    "sentence = \"the quick brown fox jumps over the lazy dog dog\"\n",
    "word_frequency = count_words(sentence)\n",
    "print(\"Word Frequency:\", word_frequency)\n"
   ]
  },
  {
   "cell_type": "code",
   "execution_count": 5,
   "metadata": {},
   "outputs": [
    {
     "name": "stdout",
     "output_type": "stream",
     "text": [
      "Search Contact: 1234567890\n",
      "Search Contact: Contact not found\n",
      "Search Contact: Contact not found\n"
     ]
    }
   ],
   "source": [
    "#Implement a simple phonebook application using a dictionary where users can add, delete, and search for contacts. \n",
    "\n",
    "class PhoneBook:\n",
    "    def __init__(self):\n",
    "        self.contacts = {}\n",
    "\n",
    "    def add_contact(self, name, number):\n",
    "        self.contacts[name] = number\n",
    "\n",
    "    def delete_contact(self, name):\n",
    "        if name in self.contacts:\n",
    "            del self.contacts[name]\n",
    "        else:\n",
    "            print(\"Contact not found\")\n",
    "\n",
    "    def search_contact(self, name):\n",
    "        if name in self.contacts:\n",
    "            return self.contacts[name]\n",
    "        else:\n",
    "            return \"Contact not found\"\n",
    "        \n",
    "\n",
    "phone_book = PhoneBook()\n",
    "phone_book.add_contact(\"Pranjal\", \"1234567890\")\n",
    "phone_book.add_contact(\"Charmy\", \"9876543210\")\n",
    "phone_book.add_contact(\"Charlie\", \"4567890123\")\n",
    "\n",
    "print(\"Search Contact:\", phone_book.search_contact(\"Pranjal\"))\n",
    "print(\"Search Contact:\", phone_book.search_contact(\"xyz\"))\n",
    "\n",
    "phone_book.delete_contact(\"Pranjal\")\n",
    "print(\"Search Contact:\", phone_book.search_contact(\"Pranjal\"))\n",
    "\n"
   ]
  },
  {
   "cell_type": "code",
   "execution_count": 6,
   "metadata": {},
   "outputs": [
    {
     "name": "stdout",
     "output_type": "stream",
     "text": [
      "Dictionary: {'a': 1, 'b': 2, 'c': 3}\n",
      "Tuples: [('a', 1), ('b', 2), ('c', 3)]\n"
     ]
    }
   ],
   "source": [
    "#Write a program to convert a list of tuples (key-value pairs) into a dictionary and vice versa. \n",
    "\n",
    "def convert_to_dict(tuples):\n",
    "    return dict(tuples)\n",
    "\n",
    "def convert_to_tuples(dictionary):\n",
    "    return list(dictionary.items())\n",
    "\n",
    "key_value_pairs = [(\"a\", 1), (\"b\", 2), (\"c\", 3)]\n",
    "dictionary = convert_to_dict(key_value_pairs)\n",
    "print(\"Dictionary:\", dictionary)\n",
    "\n",
    "new_tuples = convert_to_tuples(dictionary)\n",
    "print(\"Tuples:\", new_tuples)\n",
    "\n"
   ]
  },
  {
   "cell_type": "code",
   "execution_count": null,
   "metadata": {},
   "outputs": [],
   "source": [
    "#Apply set concepts to real-world scenarios. "
   ]
  },
  {
   "cell_type": "code",
   "execution_count": null,
   "metadata": {},
   "outputs": [],
   "source": []
  },
  {
   "cell_type": "code",
   "execution_count": 7,
   "metadata": {},
   "outputs": [
    {
     "name": "stdout",
     "output_type": "stream",
     "text": [
      "Input List: [1, 2, 3, 4, 4, 5, 6, 6, 7, 7]\n",
      "Unique Elements: [1, 2, 3, 4, 5, 6, 7]\n"
     ]
    }
   ],
   "source": [
    "#Write a program to remove duplicate elements from a list using a set.\n",
    "\n",
    "def remove_duplicates(input_list):\n",
    "    return list(set(input_list))    \n",
    "\n",
    "input_list = [1, 2, 3, 4, 4, 5, 6, 6, 7, 7]\n",
    "unique_elements = remove_duplicates(input_list)\n",
    "print(\"Input List:\", input_list)\n",
    "print(\"Unique Elements:\", unique_elements)\n"
   ]
  },
  {
   "cell_type": "code",
   "execution_count": 8,
   "metadata": {},
   "outputs": [
    {
     "name": "stdout",
     "output_type": "stream",
     "text": [
      "Symmetric Difference: {1, 2, 3, 5, 9}\n"
     ]
    }
   ],
   "source": [
    "#Write a program to find the symmetric difference of multiple sets. \n",
    "\n",
    "def symmetric_difference(sets):\n",
    "    result = set()\n",
    "    for s in sets:\n",
    "        result = result.symmetric_difference(s)\n",
    "    return result\n",
    "\n",
    "set1 = {1, 2, 3, 4, 5}\n",
    "set2 = {4, 5, 6, 7, 8}\n",
    "set3 = {5, 6, 7, 8, 9}\n",
    "\n",
    "symmetric_diff = symmetric_difference([set1, set2, set3])\n",
    "print(\"Symmetric Difference:\", symmetric_diff)\n",
    "\n"
   ]
  },
  {
   "cell_type": "code",
   "execution_count": 9,
   "metadata": {},
   "outputs": [
    {
     "name": "stdout",
     "output_type": "stream",
     "text": [
      "Intersection of Even and Prime Numbers: {2}\n"
     ]
    }
   ],
   "source": [
    "#Write a program to find the intersection of two sets where one set has even numbers and another has prime numbers. \n",
    "\n",
    "\n",
    "\n",
    "even_numbers = {2, 4, 6, 8, 10}\n",
    "prime_numbers = {2, 3, 5, 7, 11}\n",
    "\n",
    "intersection = even_numbers.intersection(prime_numbers)\n",
    "print(\"Intersection of Even and Prime Numbers:\", intersection)\n"
   ]
  },
  {
   "cell_type": "code",
   "execution_count": 10,
   "metadata": {},
   "outputs": [
    {
     "name": "stdout",
     "output_type": "stream",
     "text": [
      "Union of Odd Numbers and Multiples of 9: {1, 3, 36, 5, 7, 9, 45, 18, 27}\n"
     ]
    }
   ],
   "source": [
    "#Write a program to find the union of two sets where one set has odd numbers and another has multiple of 9’s. \n",
    "\n",
    "odd_numbers = {1, 3, 5, 7, 9}\n",
    "multiples_of_9 = {9, 18, 27, 36, 45}\n",
    "\n",
    "union = odd_numbers.union(multiples_of_9)\n",
    "print(\"Union of Odd Numbers and Multiples of 9:\", union)\n",
    "\n"
   ]
  },
  {
   "cell_type": "code",
   "execution_count": 11,
   "metadata": {},
   "outputs": [
    {
     "name": "stdout",
     "output_type": "stream",
     "text": [
      "Difference of Positive and Negative Numbers: {1, 2, 3, 4, 5}\n"
     ]
    }
   ],
   "source": [
    "#Write a program to find the difference of two sets where one set has positive numbers and another has negative numbers. \n",
    "\n",
    "positive_numbers = {1, 2, 3, 4, 5}\n",
    "negative_numbers = {-1, -2, -3, -4, -5}\n",
    "\n",
    "difference = positive_numbers.difference(negative_numbers)\n",
    "print(\"Difference of Positive and Negative Numbers:\", difference)\n",
    "\n"
   ]
  },
  {
   "cell_type": "code",
   "execution_count": null,
   "metadata": {},
   "outputs": [],
   "source": [
    "#Capstone Project1: College Event Management System "
   ]
  },
  {
   "cell_type": "code",
   "execution_count": 18,
   "metadata": {},
   "outputs": [
    {
     "name": "stdout",
     "output_type": "stream",
     "text": [
      "Participants for Tech Fest:\n",
      "('pranjal', '1234567890', 'CSE', 'Not Attended')\n",
      "Participants for Cultural Night:\n",
      "('charmy', '9876543210', 'EEE', 'Attended')\n",
      "Participants for Sports Meet:\n",
      "('isha', '4567890123', 'ME', 'Not Attended')\n",
      "Participant Details for Cultural Night: ('charmy', '9876543210', 'EEE', 'Attended')\n",
      "pranjal marked as Attended\n",
      "Participant not found\n",
      "Participant not found\n",
      "isha marked as Attended\n",
      "\n",
      " Event Summary:\n",
      "Tech Fest: 1 participants\n",
      "Cultural Night: 1 participants\n",
      "Sports Meet: 1 participants\n"
     ]
    }
   ],
   "source": [
    "\n",
    "'''Objective: Apply tuple, list, and dictionary concepts to manage participants and event details. \n",
    "\n",
    "Task: \n",
    "\n",
    "Store event information as a dictionary where the event name is the key and the value is a list of participant tuples. \n",
    "Each tuple contains (Participant Name, Contact Number, Department, Participation Status). \n",
    "Write a program to: \n",
    "Display the list of participants for a specific event. \n",
    "Search for a participant by name and display their event details. \n",
    "Mark a participant as “Attended” or “Not Attended”. \n",
    "Generate a summary of total participants in each event. '''\n",
    "\n",
    "class EventManagementSystem:\n",
    "    def __init__(self):\n",
    "        self.events = {}\n",
    "\n",
    "    def add_participant(self, event_name, participant):\n",
    "        if event_name in self.events:\n",
    "            self.events[event_name].append(participant)\n",
    "        else:\n",
    "            self.events[event_name] = [participant]\n",
    "\n",
    "    def display_participants(self, event_name):\n",
    "        if event_name in self.events:\n",
    "            print(f\"Participants for {event_name}:\")\n",
    "            for participant in self.events[event_name]:\n",
    "                print(participant)\n",
    "        else:\n",
    "            print(\"Event not found\")\n",
    "\n",
    "    def search_participant(self, name):\n",
    "        for event_name, participants in self.events.items():\n",
    "            for participant in participants:\n",
    "                if participant[0] == name:\n",
    "                    return participant, event_name\n",
    "        return None\n",
    "\n",
    "    def mark_attendance(self, name, status):\n",
    "         for event_name, participants in self.events.items():\n",
    "            for i, participant in enumerate(participants):\n",
    "                if participant[0] == name:\n",
    "                    participant_list = list(participant)\n",
    "                    participant_list[3] = status\n",
    "                    participants[i] = tuple(participant_list)\n",
    "                    print(f\"{name} marked as {status}\")\n",
    "                    return\n",
    "            print(\"Participant not found\")\n",
    "\n",
    "    def generate_summary(self):\n",
    "        summary = {}\n",
    "        for event_name, participants in self.events.items():\n",
    "            summary[event_name] = len(participants)\n",
    "        return summary\n",
    "    \n",
    "\n",
    "event_system = EventManagementSystem()\n",
    "event_system.add_participant(\"Tech Fest\", (\"pranjal\", \"1234567890\", \"CSE\", \"Not Attended\"))\n",
    "event_system.add_participant(\"Cultural Night\", (\"charmy\", \"9876543210\", \"EEE\", \"Attended\"))\n",
    "event_system.add_participant(\"Sports Meet\", (\"isha\", \"4567890123\", \"ME\", \"Not Attended\"))\n",
    "\n",
    "event_system.display_participants(\"Tech Fest\")\n",
    "event_system.display_participants(\"Cultural Night\")\n",
    "event_system.display_participants(\"Sports Meet\")\n",
    "\n",
    "participant, event_name = event_system.search_participant(\"charmy\")\n",
    "print(f\"Participant Details for {event_name}:\", participant)\n",
    "\n",
    "\n",
    "event_system.mark_attendance(\"pranjal\", \"Attended\")\n",
    "event_system.mark_attendance(\"isha\", \"Attended\")\n",
    "\n",
    "summary = event_system.generate_summary()\n",
    "print(\"\\n Event Summary:\")\n",
    "for event_name, count in summary.items():\n",
    "    print(f\"{event_name}: {count} participants\")\n",
    "\n",
    "\n",
    "    \n",
    "\n"
   ]
  },
  {
   "cell_type": "code",
   "execution_count": null,
   "metadata": {},
   "outputs": [],
   "source": [
    "#Capstone project2: Online Food Delivery System"
   ]
  },
  {
   "cell_type": "code",
   "execution_count": 19,
   "metadata": {},
   "outputs": [
    {
     "name": "stdout",
     "output_type": "stream",
     "text": [
      "Order placed successfully. Total Bill: 400\n",
      "Order placed successfully. Total Bill: 380\n",
      "Order placed successfully. Total Bill: 100\n",
      "Total Revenue: 880\n",
      "Unique Customers: {'pranjal', 'katyayani', 'charmy'}\n"
     ]
    }
   ],
   "source": [
    "'''Objective: Design an online food delivery system using list, tuple, dictionary, and set concepts. \n",
    "\n",
    "Task: \n",
    "\n",
    "Store menu items as a dictionary where item names are keys and (Price, Category) is the value. \n",
    "Create a list of orders where each order is a tuple (Order ID, Customer Name, Item List, Total Bill). \n",
    "Use a set to store unique customer names who have placed orders. \n",
    " \n",
    "Write a program to: \n",
    "Allow users to place an order by selecting items from the menu. \n",
    "Generate a bill for the customer and store it in the list of orders. \n",
    "Display the total revenue generated from all orders. \n",
    "Display the list of unique customers who have placed orders.'''\n",
    "\n",
    "class FoodDeliverySystem:\n",
    "    def __init__(self):\n",
    "        self.menu = {\n",
    "            \"Burger\": (150, \"Fast Food\"),\n",
    "            \"Pizza\": (250, \"Fast Food\"),\n",
    "            \"Pasta\": (200, \"Italian\"),\n",
    "            \"Noodles\": (180, \"Chinese\"),\n",
    "            \"Salad\": (100, \"Healthy\")\n",
    "        }\n",
    "        self.orders = []\n",
    "        self.customers = set()\n",
    "\n",
    "    def place_order(self, order_id, customer_name, items):\n",
    "        total_bill = 0\n",
    "        for item in items:\n",
    "            if item in self.menu:\n",
    "                total_bill += self.menu[item][0]\n",
    "        self.orders.append((order_id, customer_name, items, total_bill))\n",
    "        self.customers.add(customer_name)\n",
    "        print(f\"Order placed successfully. Total Bill: {total_bill}\")\n",
    "\n",
    "    def total_revenue(self):\n",
    "        revenue = sum(order[3] for order in self.orders)\n",
    "        return revenue\n",
    "\n",
    "    def unique_customers(self):\n",
    "        return self.customers\n",
    "    \n",
    "\n",
    "food_system = FoodDeliverySystem()\n",
    "food_system.place_order(1, \"pranjal\", [\"Burger\", \"Pizza\"])\n",
    "food_system.place_order(2, \"charmy\", [\"Pasta\", \"Noodles\"])\n",
    "food_system.place_order(3, \"katyayani\", [\"Salad\"])\n",
    "\n",
    "revenue = food_system.total_revenue()\n",
    "print(\"Total Revenue:\", revenue)\n",
    "\n",
    "customers = food_system.unique_customers()\n",
    "print(\"Unique Customers:\", customers)\n",
    "\n"
   ]
  }
 ],
 "metadata": {
  "kernelspec": {
   "display_name": "Python 3",
   "language": "python",
   "name": "python3"
  },
  "language_info": {
   "codemirror_mode": {
    "name": "ipython",
    "version": 3
   },
   "file_extension": ".py",
   "mimetype": "text/x-python",
   "name": "python",
   "nbconvert_exporter": "python",
   "pygments_lexer": "ipython3",
   "version": "3.12.4"
  }
 },
 "nbformat": 4,
 "nbformat_minor": 2
}
