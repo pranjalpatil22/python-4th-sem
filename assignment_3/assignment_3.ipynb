{
 "cells": [
  {
   "cell_type": "code",
   "execution_count": 1,
   "metadata": {},
   "outputs": [],
   "source": [
    "import time\n",
    "from functools import wraps\n"
   ]
  },
  {
   "cell_type": "code",
   "execution_count": 4,
   "metadata": {},
   "outputs": [
    {
     "name": "stdout",
     "output_type": "stream",
     "text": [
      "Addition: 15\n",
      "Subtraction: 5\n",
      "Multiplication: 50\n",
      "Division: 2.0\n"
     ]
    }
   ],
   "source": [
    "# 1. Basic Calculator\n",
    "def add(a, b):\n",
    "    return a + b\n",
    "\n",
    "def subtract(a, b):\n",
    "    return a - b\n",
    "\n",
    "def multiply(a, b):\n",
    "    return a * b\n",
    "\n",
    "def divide(a, b):\n",
    "    if b == 0:\n",
    "        return \"Error: Division by zero\"\n",
    "    return a / b\n",
    "\n",
    "print(\"Addition:\", add(10, 5))\n",
    "print(\"Subtraction:\", subtract(10, 5))\n",
    "print(\"Multiplication:\", multiply(10, 5))\n",
    "print(\"Division:\", divide(10, 5))\n"
   ]
  },
  {
   "cell_type": "code",
   "execution_count": 5,
   "metadata": {},
   "outputs": [
    {
     "name": "stdout",
     "output_type": "stream",
     "text": [
      "Factorial: 120\n"
     ]
    }
   ],
   "source": [
    "# 2. Recursive Factorial\n",
    "def factorial(n):\n",
    "    if n == 0 or n == 1:\n",
    "        return 1\n",
    "    return n * factorial(n - 1)\n",
    "print(\"Factorial:\", factorial(5))\n"
   ]
  },
  {
   "cell_type": "code",
   "execution_count": 6,
   "metadata": {},
   "outputs": [
    {
     "name": "stdout",
     "output_type": "stream",
     "text": [
      "List Operations: {'max': 50, 'min': 10, 'sum': 150, 'average': 30.0}\n"
     ]
    }
   ],
   "source": [
    "# 3. List Operations\n",
    "def list_operations(lst):\n",
    "    max_val = lst[0]\n",
    "    min_val = lst[0]\n",
    "    sum_val = 0\n",
    "    \n",
    "    for num in lst:\n",
    "        if num > max_val:\n",
    "            max_val = num\n",
    "        if num < min_val:\n",
    "            min_val = num\n",
    "        sum_val += num\n",
    "    \n",
    "    avg_val = sum_val / len(lst) if lst else 0\n",
    "    \n",
    "    return {\"max\": max_val, \"min\": min_val, \"sum\": sum_val, \"average\": avg_val}\n",
    "\n",
    "numbers = [10, 20, 30, 40, 50]\n",
    "print(\"List Operations:\", list_operations(numbers))"
   ]
  },
  {
   "cell_type": "code",
   "execution_count": 7,
   "metadata": {},
   "outputs": [
    {
     "name": "stdout",
     "output_type": "stream",
     "text": [
      "Fibonacci Sequence: [0, 1, 1, 2, 3, 5, 8, 13, 21, 34]\n"
     ]
    }
   ],
   "source": [
    "# 4. Fibonacci Sequence\n",
    "def fibonacci(n):\n",
    "    sequence = []\n",
    "    a, b = 0, 1\n",
    "    for _ in range(n):\n",
    "        sequence.append(a)\n",
    "        a, b = b, a + b\n",
    "    return sequence\n",
    "\n",
    "print(\"Fibonacci Sequence:\", fibonacci(10))"
   ]
  },
  {
   "cell_type": "code",
   "execution_count": 8,
   "metadata": {},
   "outputs": [
    {
     "name": "stdout",
     "output_type": "stream",
     "text": [
      "Merged Dictionary: {'b': 5, 'c': 3, 'd': 4}\n",
      "b: 5\n",
      "c: 3\n"
     ]
    }
   ],
   "source": [
    "# 5. Dictionary Operations\n",
    "def add_to_dict(d, key, value):\n",
    "    d[key] = value\n",
    "\n",
    "def update_dict(d, key, value):\n",
    "    if key in d:\n",
    "        d[key] = value\n",
    "\n",
    "def delete_from_dict(d, key):\n",
    "    if key in d:\n",
    "        del d[key]\n",
    "\n",
    "def merge_dicts(d1, d2):\n",
    "    return {**d1, **d2}\n",
    "\n",
    "def display_dict(d):\n",
    "    for key, value in d.items():\n",
    "        print(f\"{key}: {value}\")\n",
    "\n",
    "dictionary = {\"a\": 1, \"b\": 2}\n",
    "add_to_dict(dictionary, \"c\", 3)\n",
    "update_dict(dictionary, \"b\", 5)\n",
    "delete_from_dict(dictionary, \"a\")\n",
    "print(\"Merged Dictionary:\", merge_dicts(dictionary, {\"d\": 4}))\n",
    "display_dict(dictionary)\n"
   ]
  },
  {
   "cell_type": "code",
   "execution_count": 9,
   "metadata": {},
   "outputs": [
    {
     "name": "stdout",
     "output_type": "stream",
     "text": [
      "To-Do List: ['Complete project']\n"
     ]
    }
   ],
   "source": [
    "# 6. To-Do List Application\n",
    "todo_list = []\n",
    "\n",
    "def add_task(task):\n",
    "    todo_list.append(task)\n",
    "\n",
    "def remove_task(task):\n",
    "    if task in todo_list:\n",
    "        todo_list.remove(task)\n",
    "\n",
    "def view_tasks():\n",
    "    return todo_list\n",
    "\n",
    "add_task(\"Complete project\")\n",
    "add_task(\"Read book\")\n",
    "remove_task(\"Read book\")\n",
    "print(\"To-Do List:\", view_tasks())"
   ]
  },
  {
   "cell_type": "code",
   "execution_count": 10,
   "metadata": {},
   "outputs": [
    {
     "name": "stdout",
     "output_type": "stream",
     "text": [
      "Even Numbers: [10, 20, 30, 40, 50]\n"
     ]
    }
   ],
   "source": [
    "# 7. Even Numbers from List\n",
    "def filter_even_numbers(lst):\n",
    "    return [num for num in lst if num % 2 == 0]\n",
    "\n",
    "print(\"Even Numbers:\", filter_even_numbers(numbers))"
   ]
  },
  {
   "cell_type": "code",
   "execution_count": 11,
   "metadata": {},
   "outputs": [
    {
     "name": "stdout",
     "output_type": "stream",
     "text": [
      "Largest and Smallest: {'largest': 50, 'smallest': 10}\n"
     ]
    }
   ],
   "source": [
    "# 8. Find Largest and Smallest Without Built-in Functions\n",
    "def find_largest_smallest(lst):\n",
    "    largest, smallest = lst[0], lst[0]\n",
    "    for num in lst:\n",
    "        if num > largest:\n",
    "            largest = num\n",
    "        if num < smallest:\n",
    "            smallest = num\n",
    "    return {\"largest\": largest, \"smallest\": smallest}\n",
    "\n",
    "print(\"Largest and Smallest:\", find_largest_smallest(numbers))\n"
   ]
  },
  {
   "cell_type": "code",
   "execution_count": 12,
   "metadata": {},
   "outputs": [
    {
     "name": "stdout",
     "output_type": "stream",
     "text": [
      "Function executed.\n",
      "Function executed.\n"
     ]
    }
   ],
   "source": [
    "# 9. Rate Limit Decorator\n",
    "def rate_limiter(limit_time):\n",
    "    def decorator(func):\n",
    "        last_called = [0]\n",
    "        \n",
    "        @wraps(func)\n",
    "        def wrapper(*args, **kwargs):\n",
    "            elapsed = time.time() - last_called[0]\n",
    "            if elapsed < limit_time:\n",
    "                print(f\"Rate limit exceeded. Try again in {limit_time - elapsed:.2f} seconds.\")\n",
    "                return\n",
    "            last_called[0] = time.time()\n",
    "            return func(*args, **kwargs)\n",
    "        \n",
    "        return wrapper\n",
    "    return decorator\n",
    "\n",
    "@rate_limiter(2)\n",
    "def test_function():\n",
    "    print(\"Function executed.\")\n",
    "\n",
    "test_function()\n",
    "time.sleep(2)\n",
    "test_function()\n"
   ]
  }
 ],
 "metadata": {
  "kernelspec": {
   "display_name": "Python 3",
   "language": "python",
   "name": "python3"
  },
  "language_info": {
   "codemirror_mode": {
    "name": "ipython",
    "version": 3
   },
   "file_extension": ".py",
   "mimetype": "text/x-python",
   "name": "python",
   "nbconvert_exporter": "python",
   "pygments_lexer": "ipython3",
   "version": "3.13.2"
  }
 },
 "nbformat": 4,
 "nbformat_minor": 2
}
