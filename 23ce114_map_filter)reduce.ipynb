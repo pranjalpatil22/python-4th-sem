{
 "cells": [
  {
   "cell_type": "markdown",
   "metadata": {},
   "source": [
    "Reduce:\n",
    "1. Find the Product of All Elements in a List\n",
    "2. Find the Longest Word in a List\n",
    "3. Concatenate All Strings in a List\n",
    "4. Sum of a List\n",
    "5. Compute the GCD (Greatest Common Divisor) of a List of Numbers\n",
    "6. Find the Most Frequent Element in a List\n",
    "7. Calculate the Average of a List\n",
    "8. Find the Minimum Element in a List\n",
    "9. Concatenate All Elements with a Separator\n",
    "10. Multiply All Elements by a Factor"
   ]
  },
  {
   "cell_type": "code",
   "execution_count": 1,
   "metadata": {},
   "outputs": [
    {
     "name": "stdout",
     "output_type": "stream",
     "text": [
      "120\n"
     ]
    }
   ],
   "source": [
    "#Find the Product of All Elements in a List using reduce\n",
    "from functools import reduce\n",
    "\n",
    "def product_of_elements(lst):\n",
    "    return reduce(lambda x, y: x * y, lst)\n",
    "\n",
    "lst = [1, 2, 3, 4, 5]\n",
    "print(product_of_elements(lst)) "
   ]
  },
  {
   "cell_type": "code",
   "execution_count": 2,
   "metadata": {},
   "outputs": [
    {
     "name": "stdout",
     "output_type": "stream",
     "text": [
      "JavaScript\n"
     ]
    }
   ],
   "source": [
    "#Find the Longest Word in a List using reduce\n",
    "\n",
    "def longest_word(lst):\n",
    "    return reduce(lambda x, y: x if len(x) > len(y) else y, lst)\n",
    "\n",
    "lst = ['Python', 'Java', 'C++', 'JavaScript']\n",
    "print(longest_word(lst))\n"
   ]
  },
  {
   "cell_type": "code",
   "execution_count": 3,
   "metadata": {},
   "outputs": [
    {
     "name": "stdout",
     "output_type": "stream",
     "text": [
      "PythonJavaC++JavaScript\n"
     ]
    }
   ],
   "source": [
    "#Concatenate All Strings in a List using reduce\n",
    "\n",
    "def concatenate(lst):\n",
    "    return reduce(lambda x, y: x + y, lst)\n",
    "\n",
    "lst = ['Python', 'Java', 'C++', 'JavaScript']\n",
    "print(concatenate(lst))"
   ]
  },
  {
   "cell_type": "code",
   "execution_count": 4,
   "metadata": {},
   "outputs": [
    {
     "name": "stdout",
     "output_type": "stream",
     "text": [
      "15\n"
     ]
    }
   ],
   "source": [
    "#Sum of a List using reduce\n",
    "\n",
    "def sum(lst):\n",
    "    return reduce(lambda x,y: x + y,lst)\n",
    "\n",
    "lst = [1, 2, 3, 4, 5]\n",
    "print(sum(lst))\n"
   ]
  },
  {
   "cell_type": "code",
   "execution_count": 5,
   "metadata": {},
   "outputs": [
    {
     "name": "stdout",
     "output_type": "stream",
     "text": [
      "12\n"
     ]
    }
   ],
   "source": [
    "#Compute the GCD (Greatest Common Divisor) of a List of Numbers using reduce\n",
    "\n",
    "def gcd(a, b):\n",
    "    while b:\n",
    "        a, b = b, a % b\n",
    "    return a\n",
    "\n",
    "def gcd_of_list(lst):\n",
    "    return reduce(lambda x, y: gcd(x, y), lst)\n",
    "\n",
    "lst = [12, 24, 48, 96, 192]\n",
    "print(gcd_of_list(lst))"
   ]
  },
  {
   "cell_type": "code",
   "execution_count": 6,
   "metadata": {},
   "outputs": [
    {
     "name": "stdout",
     "output_type": "stream",
     "text": [
      "4\n"
     ]
    }
   ],
   "source": [
    "#Find the Most Frequent Element in a List using reduce\n",
    "\n",
    "def most_frequent(lst):\n",
    "    return reduce(lambda x, y: x if lst.count(x) > lst.count(y) else y, lst)\n",
    "\n",
    "lst = [1, 2, 3, 4, 2, 2, 3, 1, 4, 4, 4]\n",
    "print(most_frequent(lst))"
   ]
  },
  {
   "cell_type": "code",
   "execution_count": 7,
   "metadata": {},
   "outputs": [
    {
     "name": "stdout",
     "output_type": "stream",
     "text": [
      "3.0\n"
     ]
    }
   ],
   "source": [
    "#Calculate the Average of a List using reduce\n",
    "\n",
    "def average(lst):\n",
    "    return reduce(lambda x, y: x + y, lst) / len(lst)\n",
    "\n",
    "lst = [1, 2, 3, 4, 5]\n",
    "print(average(lst))"
   ]
  },
  {
   "cell_type": "code",
   "execution_count": 8,
   "metadata": {},
   "outputs": [
    {
     "name": "stdout",
     "output_type": "stream",
     "text": [
      "1\n"
     ]
    }
   ],
   "source": [
    "#Find the Manimum of a List using reduce\n",
    "\n",
    "def min(lst):\n",
    "    return reduce(lambda x, y: x if x < y else y, lst)\n",
    "\n",
    "lst = [1, 2, 3, 4, 5]\n",
    "print(min(lst))"
   ]
  },
  {
   "cell_type": "code",
   "execution_count": 9,
   "metadata": {},
   "outputs": [
    {
     "name": "stdout",
     "output_type": "stream",
     "text": [
      "Python, Java, C++, JavaScript\n"
     ]
    }
   ],
   "source": [
    "#Concatenate All Elements with a Separator using reduce\n",
    "\n",
    "def concatenate(lst, separator):\n",
    "    return reduce(lambda x, y: x + separator + y, lst)\n",
    "\n",
    "lst = ['Python', 'Java', 'C++', 'JavaScript']\n",
    "separator = ', '\n",
    "print(concatenate(lst, separator))"
   ]
  },
  {
   "cell_type": "code",
   "execution_count": 10,
   "metadata": {},
   "outputs": [
    {
     "name": "stdout",
     "output_type": "stream",
     "text": [
      "1200000\n"
     ]
    }
   ],
   "source": [
    "#multiply All Elements by a Factor using reduce\n",
    "\n",
    "\n",
    "def multiply_by_factor(lst, factor):\n",
    "    return reduce(lambda x, y: x * y * factor, lst)\n",
    "\n",
    "lst = [1, 2, 3, 4, 5]\n",
    "factor = 10\n",
    "print(multiply_by_factor(lst, factor))"
   ]
  },
  {
   "cell_type": "markdown",
   "metadata": {},
   "source": [
    "Map:\n",
    "1. Convert a List of Binary Strings to Decimal Numbers\n",
    "2. Compute the Factorial of Each Number in a List\n",
    "3. Convert a List of Strings to Uppercase\n",
    "4. Convert Temperatures from Celsius to Fahrenheit\n",
    "5. Convert a List of Strings to Their Lengths\n",
    "6. Square Each Number in a List\n",
    "7. Given a list of radii, use map to calculate the area of each circle.\n",
    "8. Reverse Each String in a List\n",
    "9. Convert a List of Names to Title Case\n",
    "10. Convert a List of Prices to a List with Tax Added"
   ]
  },
  {
   "cell_type": "code",
   "execution_count": 11,
   "metadata": {},
   "outputs": [
    {
     "name": "stdout",
     "output_type": "stream",
     "text": [
      "[10, 9, 15, 12]\n"
     ]
    }
   ],
   "source": [
    "#Convert a List of Binary Strings to Decimal Numbersusing map\n",
    "\n",
    "def binary_to_decimal(binary):\n",
    "    return int(binary, 2)\n",
    "\n",
    "lst = ['0b1010', '0b1001', '0b1111', '0b1100']\n",
    "print(list(map(binary_to_decimal, lst)))"
   ]
  },
  {
   "cell_type": "code",
   "execution_count": 12,
   "metadata": {},
   "outputs": [
    {
     "name": "stdout",
     "output_type": "stream",
     "text": [
      "[1, 2, 6, 24, 120]\n"
     ]
    }
   ],
   "source": [
    "#Compute the Factorial of Each Number in a List using map\n",
    "\n",
    "def factorial(n):\n",
    "    return 1 if n == 0 else n * factorial(n - 1)\n",
    "\n",
    "lst = [1, 2, 3, 4, 5]\n",
    "print(list(map(factorial, lst)))"
   ]
  },
  {
   "cell_type": "code",
   "execution_count": 13,
   "metadata": {},
   "outputs": [
    {
     "name": "stdout",
     "output_type": "stream",
     "text": [
      "['PYTHON', 'JAVA', 'C++', 'JAVASCRIPT']\n"
     ]
    }
   ],
   "source": [
    "#Convert a List of Strings to Uppercase using map\n",
    "\n",
    "def to_uppercase(s):\n",
    "    return s.upper()\n",
    "\n",
    "lst = ['Python', 'Java', 'C++', 'JavaScript']\n",
    "print(list(map(to_uppercase, lst)))"
   ]
  },
  {
   "cell_type": "code",
   "execution_count": 14,
   "metadata": {},
   "outputs": [
    {
     "name": "stdout",
     "output_type": "stream",
     "text": [
      "[32.0, 50.0, 68.0, 86.0, 104.0]\n"
     ]
    }
   ],
   "source": [
    "#Convert Temperatures from Celsius to Fahrenheit usig map\n",
    "\n",
    "def celsius_to_fahrenheit(celsius):\n",
    "    return (celsius * 9/5) + 32\n",
    "\n",
    "celsius_temperatures = [0, 10, 20, 30, 40]\n",
    "fahrenheit_temperatures = list(map(celsius_to_fahrenheit, celsius_temperatures))\n",
    "print(fahrenheit_temperatures)"
   ]
  },
  {
   "cell_type": "code",
   "execution_count": 15,
   "metadata": {},
   "outputs": [
    {
     "name": "stdout",
     "output_type": "stream",
     "text": [
      "[6, 4, 3, 10]\n"
     ]
    }
   ],
   "source": [
    "#Convert a List of Strings to Their Lengths using map\n",
    "\n",
    "def length(s):\n",
    "    return len(s)\n",
    "\n",
    "lst = ['Python', 'Java', 'C++', 'JavaScript']\n",
    "print(list(map(length, lst)))\n"
   ]
  },
  {
   "cell_type": "code",
   "execution_count": 17,
   "metadata": {},
   "outputs": [
    {
     "name": "stdout",
     "output_type": "stream",
     "text": [
      "[1, 4, 9, 16, 25]\n"
     ]
    }
   ],
   "source": [
    "#Square Each Number in a List using map\n",
    "\n",
    "def square(num):\n",
    "    return num*num\n",
    "\n",
    "lst = [1,2,3,4,5]\n",
    "print(list(map(square,lst)))"
   ]
  },
  {
   "cell_type": "code",
   "execution_count": 18,
   "metadata": {},
   "outputs": [
    {
     "name": "stdout",
     "output_type": "stream",
     "text": [
      "[3.14, 12.56, 28.259999999999998, 50.24, 78.5]\n"
     ]
    }
   ],
   "source": [
    "#Given a list of radii, use map to calculate the area of each circle. using map\n",
    "\n",
    "def area(rad):\n",
    "    return 3.14*rad*rad\n",
    "\n",
    "lst = [1,2,3,4,5]\n",
    "print(list(map(area,lst)))"
   ]
  },
  {
   "cell_type": "code",
   "execution_count": 20,
   "metadata": {},
   "outputs": [
    {
     "name": "stdout",
     "output_type": "stream",
     "text": [
      "Reversed Words: ['olleh', 'dlrow', 'nohtyP', 'pam']\n",
      "Names in Title Case: ['Alice', 'Bob', 'Charlie', 'David']\n",
      "Prices with Tax Added: [110.0, 220.0, 330.0, 440.0]\n"
     ]
    }
   ],
   "source": [
    "# 1. Reverse Each String in a List using map\n",
    "words = [\"hello\", \"world\", \"Python\", \"map\"]\n",
    "reversed_words = list(map(lambda word: word[::-1], words))\n",
    "print(\"Reversed Words:\", reversed_words)\n",
    "\n",
    "# 2. Convert a List of Names to Title Case\n",
    "names = [\"alice\", \"bOB\", \"CHARLIE\", \"daviD\"]\n",
    "title_case_names = list(map(lambda name: name.title(), names))\n",
    "print(\"Names in Title Case:\", title_case_names)\n",
    "\n",
    "# 3. Convert a List of Prices to a List with Tax Added\n",
    "prices = [100, 200, 300, 400]\n",
    "tax_rate = 0.1  # 10% tax\n",
    "prices_with_tax = list(map(lambda price: price + (price * tax_rate), prices))\n",
    "print(\"Prices with Tax Added:\", prices_with_tax)\n",
    "\n",
    "\n"
   ]
  },
  {
   "cell_type": "markdown",
   "metadata": {},
   "source": [
    "Filter:\n",
    "1. Find Prime Numbers in a List\n",
    "2. Filter Words That Contain Vowels\n",
    "3. Remove Strings That Are Palindromes\n",
    "4. Extract Employees Earning More Than 50,000. \"[(\"Alice\", 60000), (\"Bob\", 45000),\n",
    "(\"Charlie\", 52000)]\"\n",
    "5. Remove Non-Positive Numbers\n",
    "6. Extract Names Starting with a Specific Letter\n",
    "7. Filter Words Longer Than a Certain Length\n",
    "8. Use filter to remove strings from a list that contain non-alphabetic characters.\n",
    "# 9. Use filter to remove duplicate elements from a list, retaining only unique elements.\n",
    "\n",
    "10. Use filter to extract numbers from a list that fall within a specified range (e.g.,\n",
    "between 20 and 50)"
   ]
  },
  {
   "cell_type": "code",
   "execution_count": 19,
   "metadata": {},
   "outputs": [
    {
     "name": "stdout",
     "output_type": "stream",
     "text": [
      "Prime Numbers: [2, 3, 5, 13, 17, 19, 23]\n",
      "Words with Vowels: ['apple', 'orange']\n",
      "Non-Palindrome Words: ['hello', 'world']\n",
      "Employees Earning More Than 50,000: [('Alice', 60000), ('Charlie', 52000)]\n",
      "Positive Numbers: [5, 20, 8]\n",
      "Names Starting with 'A': ['Alice', 'Adam', 'Andrew']\n",
      "Words Longer Than 5 Characters: ['Python', 'excellent']\n",
      "Words Containing Only Alphabetic Characters: ['hello', 'filter', 'pure']\n",
      "Unique Elements: [3, 4, 5, 6]\n",
      "Numbers Between 20 and 50: [25, 30, 45, 40]\n"
     ]
    }
   ],
   "source": [
    "from math import sqrt\n",
    "\n",
    "# 1. Find Prime Numbers in a List\n",
    "def is_prime(n):\n",
    "    if n < 2:\n",
    "        return False\n",
    "    for i in range(2, int(sqrt(n)) + 1):\n",
    "        if n % i == 0:\n",
    "            return False\n",
    "    return True\n",
    "\n",
    "numbers = [2, 3, 4, 5, 10, 13, 17, 18, 19, 23]\n",
    "prime_numbers = list(filter(is_prime, numbers))\n",
    "print(\"Prime Numbers:\", prime_numbers)\n",
    "\n",
    "\n",
    "# 2. Filter Words That Contain Vowels\n",
    "def contains_vowel(word):\n",
    "    return any(ch in 'aeiouAEIOU' for ch in word)\n",
    "\n",
    "words = [\"sky\", \"apple\", \"try\", \"orange\", \"bcdf\"]\n",
    "words_with_vowels = list(filter(contains_vowel, words))\n",
    "print(\"Words with Vowels:\", words_with_vowels)\n",
    "\n",
    "\n",
    "# 3. Remove Strings That Are Palindromes\n",
    "def is_palindrome(word):\n",
    "    return word == word[::-1]\n",
    "\n",
    "words = [\"level\", \"hello\", \"racecar\", \"world\", \"madam\"]\n",
    "non_palindromes = list(filter(lambda w: not is_palindrome(w), words))\n",
    "print(\"Non-Palindrome Words:\", non_palindromes)\n",
    "\n",
    "\n",
    "# 4. Extract Employees Earning More Than 50,000\n",
    "employees = [(\"Alice\", 60000), (\"Bob\", 45000), (\"Charlie\", 52000)]\n",
    "high_earners = list(filter(lambda emp: emp[1] > 50000, employees))\n",
    "print(\"Employees Earning More Than 50,000:\", high_earners)\n",
    "\n",
    "\n",
    "# 5. Remove Non-Positive Numbers\n",
    "numbers = [-10, 0, 5, 20, -3, 8, -1]\n",
    "positive_numbers = list(filter(lambda x: x > 0, numbers))\n",
    "print(\"Positive Numbers:\", positive_numbers)\n",
    "\n",
    "\n",
    "# 6. Extract Names Starting with a Specific Letter (e.g., 'A')\n",
    "names = [\"Alice\", \"Bob\", \"Adam\", \"Charlie\", \"Andrew\"]\n",
    "specific_letter = 'A'\n",
    "filtered_names = list(filter(lambda name: name.startswith(specific_letter), names))\n",
    "print(f\"Names Starting with '{specific_letter}':\", filtered_names)\n",
    "\n",
    "\n",
    "# 7. Filter Words Longer Than a Certain Length (e.g., length > 5)\n",
    "words = [\"hello\", \"world\", \"Python\", \"excellent\", \"AI\"]\n",
    "min_length = 5\n",
    "long_words = list(filter(lambda word: len(word) > min_length, words))\n",
    "print(f\"Words Longer Than {min_length} Characters:\", long_words)\n",
    "\n",
    "\n",
    "# 8. Remove Strings Containing Non-Alphabetic Characters\n",
    "words = [\"hello\", \"world!\", \"Python3\", \"filter\", \"data_123\", \"pure\"]\n",
    "only_alpha_words = list(filter(lambda w: w.isalpha(), words))\n",
    "print(\"Words Containing Only Alphabetic Characters:\", only_alpha_words)\n",
    "\n",
    "\n",
    "# 9. Remove Duplicate Elements (Retaining Unique Elements)\n",
    "nums = [1, 2, 3, 2, 4, 5, 1, 6]\n",
    "unique_nums = list(filter(lambda x: nums.count(x) == 1, nums))\n",
    "print(\"Unique Elements:\", unique_nums)\n",
    "\n",
    "\n",
    "# 10. Extract Numbers in a Specified Range (e.g., 20 to 50)\n",
    "numbers = [10, 25, 30, 45, 60, 75, 40, 19]\n",
    "range_min, range_max = 20, 50\n",
    "numbers_in_range = list(filter(lambda x: range_min <= x <= range_max, numbers))\n",
    "print(f\"Numbers Between {range_min} and {range_max}:\", numbers_in_range)\n"
   ]
  }
 ],
 "metadata": {
  "kernelspec": {
   "display_name": "Python 3",
   "language": "python",
   "name": "python3"
  },
  "language_info": {
   "codemirror_mode": {
    "name": "ipython",
    "version": 3
   },
   "file_extension": ".py",
   "mimetype": "text/x-python",
   "name": "python",
   "nbconvert_exporter": "python",
   "pygments_lexer": "ipython3",
   "version": "3.12.4"
  }
 },
 "nbformat": 4,
 "nbformat_minor": 2
}
